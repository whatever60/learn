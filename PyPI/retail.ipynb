{
 "cells": [
  {
   "cell_type": "code",
   "execution_count": 1,
   "metadata": {},
   "outputs": [],
   "source": [
    "import os\n",
    "import json"
   ]
  },
  {
   "cell_type": "code",
   "execution_count": 8,
   "metadata": {},
   "outputs": [
    {
     "name": "stdout",
     "output_type": "stream",
     "text": [
      "2086\n",
      "3254\n"
     ]
    }
   ],
   "source": [
    "dir_names = ['json', 'json_10000-20000']\n",
    "infos = []\n",
    "\n",
    "for dir_ in dir_names:\n",
    "    packages = [i for i in os.listdir(f'./{dir_}') if i != '.ipynb_checkpoints']\n",
    "    for package in packages:\n",
    "        releases = [i for i in os.listdir(f'./{dir_}/{package}') if i != '.ipynb_checkpoints']\n",
    "        package_info = dict(_id=package, releases=releases, info=[])\n",
    "        for release in releases:\n",
    "            with open(f'./{dir_}/{package}/{release}') as small:\n",
    "                release_info = json.load(small)\n",
    "            del release_info['last_serial']\n",
    "            del release_info['releases']\n",
    "            package_info['info'].append(release_info)\n",
    "        infos.append(package_info)\n",
    "    print(len(infos))\n",
    "\n",
    "with open('./BIG_JSON/json_retail1.json', 'w') as big:\n",
    "    json.dump(infos, big)"
   ]
  },
  {
   "cell_type": "code",
   "execution_count": 9,
   "metadata": {},
   "outputs": [],
   "source": [
    "with open('./BIG_JSON/json_retail1.json') as f:\n",
    "    infos = json.load(f)\n",
    "    for info in infos:\n",
    "        for i in info['info']:\n",
    "            del i['info']['description']"
   ]
  },
  {
   "cell_type": "code",
   "execution_count": 10,
   "metadata": {},
   "outputs": [],
   "source": [
    "with open('./BIG_JSON/json_retail2.json', 'w') as big:\n",
    "    json.dump(infos, big)"
   ]
  },
  {
   "cell_type": "code",
   "execution_count": null,
   "metadata": {},
   "outputs": [],
   "source": []
  }
 ],
 "metadata": {
  "kernelspec": {
   "display_name": "Python 3",
   "language": "python",
   "name": "python3"
  },
  "language_info": {
   "codemirror_mode": {
    "name": "ipython",
    "version": 3
   },
   "file_extension": ".py",
   "mimetype": "text/x-python",
   "name": "python",
   "nbconvert_exporter": "python",
   "pygments_lexer": "ipython3",
   "version": "3.8.6"
  }
 },
 "nbformat": 4,
 "nbformat_minor": 4
}
