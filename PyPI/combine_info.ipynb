{
 "cells": [
  {
   "cell_type": "code",
   "execution_count": 1,
   "metadata": {},
   "outputs": [],
   "source": [
    "import json\n",
    "import os"
   ]
  },
  {
   "cell_type": "code",
   "execution_count": 21,
   "metadata": {},
   "outputs": [
    {
     "data": {
      "text/plain": [
       "16"
      ]
     },
     "execution_count": 21,
     "metadata": {},
     "output_type": "execute_result"
    }
   ],
   "source": [
    "# 25000, 150000\n",
    "\n",
    "len(os.listdir('./BIG_JSON'))"
   ]
  },
  {
   "cell_type": "code",
   "execution_count": 22,
   "metadata": {},
   "outputs": [
    {
     "data": {
      "text/plain": [
       "17"
      ]
     },
     "execution_count": 22,
     "metadata": {},
     "output_type": "execute_result"
    }
   ],
   "source": [
    "len(os.listdir('./BIG_LOG'))"
   ]
  },
  {
   "cell_type": "code",
   "execution_count": 26,
   "metadata": {},
   "outputs": [
    {
     "data": {
      "text/plain": [
       "1168"
      ]
     },
     "execution_count": 26,
     "metadata": {},
     "output_type": "execute_result"
    }
   ],
   "source": [
    "len(os.listdir('./json_10000-20000'))"
   ]
  },
  {
   "cell_type": "code",
   "execution_count": 7,
   "metadata": {},
   "outputs": [],
   "source": [
    "jsons = []\n",
    "begin, end = 90000, 100000\n",
    "for start in range(begin, end, 100):\n",
    "#     if start == 80000:\n",
    "#         with open(f'./json_file/json_{start}-{start+1000}.json') as small:\n",
    "#             jsons.extend(json.load(small))\n",
    "#     elif start >= 81000:\n",
    "    # print(f'./drive/MyDrive/JSON/json_{start}-{start+100}.json')\n",
    "    with open(f'./json_file/json_{start}-{start+100}.json') as small:\n",
    "        jsons.extend(json.load(small))\n",
    "\n",
    "with open(f'./BIG_JSON/json_{begin}-{end}.json', 'w') as big:\n",
    "    json.dump(jsons, big)"
   ]
  },
  {
   "cell_type": "code",
   "execution_count": 17,
   "metadata": {},
   "outputs": [],
   "source": [
    "logs = []\n",
    "begin, end = 80000, 90000\n",
    "\n",
    "for start in range(begin, end, 100):\n",
    "    if start == begin:\n",
    "        with open(f'./json_file/json_{start}-{start+1000}.json') as small:\n",
    "            jsons.extend(json.load(small))\n",
    "    elif start >= begin + 1000:\n",
    "        with open(f'./log/json_{start}-{start+100}.log') as small_log:\n",
    "            logs.extend(small_log.read().splitlines())\n",
    "\n",
    "with open(f'./BIG_LOG/log_{begin}-{end}.log', 'w') as big_log:\n",
    "    print(*logs, sep='\\n', file=big_log)"
   ]
  },
  {
   "cell_type": "code",
   "execution_count": null,
   "metadata": {},
   "outputs": [],
   "source": []
  }
 ],
 "metadata": {
  "kernelspec": {
   "display_name": "Python 3",
   "language": "python",
   "name": "python3"
  },
  "language_info": {
   "codemirror_mode": {
    "name": "ipython",
    "version": 3
   },
   "file_extension": ".py",
   "mimetype": "text/x-python",
   "name": "python",
   "nbconvert_exporter": "python",
   "pygments_lexer": "ipython3",
   "version": "3.8.6"
  }
 },
 "nbformat": 4,
 "nbformat_minor": 4
}
