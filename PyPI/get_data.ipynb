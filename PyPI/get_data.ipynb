{
 "cells": [
  {
   "cell_type": "code",
   "execution_count": 1,
   "metadata": {},
   "outputs": [],
   "source": [
    "import json\n",
    "import pickle\n",
    "import os\n",
    "\n",
    "import requests\n",
    "import numpy\n",
    "from bs4 import BeautifulSoup\n",
    "import pandas as pd"
   ]
  },
  {
   "cell_type": "code",
   "execution_count": 2,
   "metadata": {},
   "outputs": [],
   "source": [
    "def get_json(path, **kwargs):\n",
    "    res = requests.get(path.format(**kwargs))\n",
    "    info = json.loads(res.text)\n",
    "    return info"
   ]
  },
  {
   "cell_type": "code",
   "execution_count": 3,
   "metadata": {},
   "outputs": [],
   "source": [
    "project_path = 'https://pypi.org/pypi/{project}/json'\n",
    "release_path = 'https://pypi.org/pypi/{project}/{release}/json'"
   ]
  },
  {
   "cell_type": "code",
   "execution_count": 4,
   "metadata": {},
   "outputs": [],
   "source": [
    "all_package_name = requests.get('https://pypi.org/simple')\n",
    "soup = BeautifulSoup(all_package_name.text, 'html.parser')\n",
    "all_packages = soup.find_all('a')"
   ]
  },
  {
   "cell_type": "code",
   "execution_count": 5,
   "metadata": {},
   "outputs": [],
   "source": [
    "all_package_text = [i.text for i in all_packages]"
   ]
  },
  {
   "cell_type": "code",
   "execution_count": 6,
   "metadata": {},
   "outputs": [],
   "source": [
    "def from_api_to_json(log, j, start, end):\n",
    "    infos = []\n",
    "    for idx, package_name in enumerate(all_package_text[start: end]):\n",
    "        try:\n",
    "            info = get_json(project_path, project=package_name)\n",
    "        except json.JSONDecodeError:\n",
    "            print(package_name, file=log)\n",
    "            continue\n",
    "        releases = list(info['releases'].keys())\n",
    "        true_releases = []\n",
    "        package_info = []\n",
    "        for release in releases:\n",
    "            try:\n",
    "                info = get_json(release_path, project=package_name, release=release)\n",
    "            except json.JSONDecodeError:\n",
    "                print(package_name, release, file=log)\n",
    "                continue\n",
    "            true_releases.append(release)\n",
    "            del info['releases']\n",
    "            del info['last_serial']\n",
    "            del info['info']['description']\n",
    "            package_info.append(info)\n",
    "        infos.append({'_id': package_name, 'releases': true_releases, 'info': package_info})\n",
    "        \n",
    "    json.dump(infos, j)"
   ]
  },
  {
   "cell_type": "code",
   "execution_count": 9,
   "metadata": {},
   "outputs": [
    {
     "name": "stdout",
     "output_type": "stream",
     "text": [
      "149500 149600 done\n",
      "149600 149700 done\n",
      "149700 149800 done\n",
      "149800 149900 done\n",
      "149900 150000 done\n",
      "150000 150100 done\n",
      "150100 150200 done\n",
      "150200 150300 done\n",
      "150300 150400 done\n",
      "150400 150500 done\n",
      "150500 150600 done\n",
      "150600 150700 done\n",
      "150700 150800 done\n",
      "150800 150900 done\n",
      "150900 151000 done\n",
      "151000 151100 done\n",
      "151100 151200 done\n",
      "151200 151300 done\n",
      "151300 151400 done\n",
      "151400 151500 done\n",
      "151500 151600 done\n",
      "151600 151700 done\n",
      "151700 151800 done\n",
      "151800 151900 done\n",
      "151900 152000 done\n",
      "152000 152100 done\n",
      "152100 152200 done\n",
      "152200 152300 done\n",
      "152300 152400 done\n",
      "152400 152500 done\n",
      "152500 152600 done\n",
      "152600 152700 done\n",
      "152700 152800 done\n",
      "152800 152900 done\n",
      "152900 153000 done\n",
      "153000 153100 done\n",
      "153100 153200 done\n",
      "153200 153300 done\n",
      "153300 153400 done\n",
      "153400 153500 done\n",
      "153500 153600 done\n",
      "153600 153700 done\n",
      "153700 153800 done\n",
      "153800 153900 done\n",
      "153900 154000 done\n",
      "154000 154100 done\n",
      "154100 154200 done\n",
      "154200 154300 done\n",
      "154300 154400 done\n",
      "154400 154500 done\n"
     ]
    }
   ],
   "source": [
    "step = 100\n",
    "for i in range(50):\n",
    "    start = 149500 + i * step\n",
    "    end = start + step\n",
    "    with open(f'./log/json_{start}-{end}.log', 'w') as log, \\\n",
    "         open(f'./json_file/json_{start}-{end}.json', 'w') as j:\n",
    "            from_api_to_json(log, j, start, end)\n",
    "    print(start, end, 'done')"
   ]
  }
 ],
 "metadata": {
  "kernelspec": {
   "display_name": "Python 3",
   "language": "python",
   "name": "python3"
  },
  "language_info": {
   "codemirror_mode": {
    "name": "ipython",
    "version": 3
   },
   "file_extension": ".py",
   "mimetype": "text/x-python",
   "name": "python",
   "nbconvert_exporter": "python",
   "pygments_lexer": "ipython3",
   "version": "3.8.6"
  }
 },
 "nbformat": 4,
 "nbformat_minor": 4
}
